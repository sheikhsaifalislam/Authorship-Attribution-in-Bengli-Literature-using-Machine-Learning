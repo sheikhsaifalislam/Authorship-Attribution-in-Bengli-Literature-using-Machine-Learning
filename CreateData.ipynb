{
 "cells": [
  {
   "cell_type": "code",
   "execution_count": 1,
   "metadata": {},
   "outputs": [],
   "source": [
    "from nltk import tokenize\n",
    "import numpy as np\n",
    "import random\n",
    "import pandas as pd"
   ]
  },
  {
   "cell_type": "code",
   "execution_count": 2,
   "metadata": {},
   "outputs": [],
   "source": [
    "def split_text(filepath, min_char):\n",
    "    \"\"\"Convert text file to a list of sentences.\n",
    "    \n",
    "    Args:\n",
    "    filepath: string. Filepath of text file.\n",
    "    min_char: int. Minimum number of characters required for a sentence to be\n",
    "    included.\n",
    "\n",
    "    Returns:\n",
    "    sentences: list of strings. List of sentences containined in the text file.\n",
    "    \"\"\"\n",
    "    # Load data into string variable and remove new line characters\n",
    "    file = open(filepath, \"r\", encoding=\"utf8\")\n",
    "    text = file.read().replace('\\n', ' ')\n",
    "    text = text.replace('.”', '”.').replace('.\"', '\".').replace('?”', '”?').replace('!”', '”!')\n",
    "    text = text.replace('--', ' ').replace('. . .', '').replace('_', '')\n",
    "    file.close()\n",
    "    \n",
    "    # Split text into a list of sentences\n",
    "    sentences = tokenize.sent_tokenize(text)\n",
    "    \n",
    "    # Remove sentences that are less than min_char long\n",
    "    sentences = [sent for sent in sentences if len(sent) >= min_char]\n",
    "\n",
    "    return list(sentences)"
   ]
  },
  {
   "cell_type": "code",
   "execution_count": 3,
   "metadata": {},
   "outputs": [],
   "source": [
    "# Set parameter values\n",
    "min_char = 5\n",
    "\n",
    "# Create lists\n",
    "হুমায়ুনআহমেদ = split_text('Child/দেয়াল.txt', min_char = min_char)\n",
    "রবিঠাকুর  = split_text('Child/ঘরে_বাইরে.txt', min_char = min_char)\\\n",
    "         + split_text('Child/যোগাযোগ.txt', min_char = min_char)\n",
    "রকিবহাসান = split_text('Child/মৃত্যুখনি.txt', min_char = min_char)\n",
    "বঙ্কিম_চট্টোপাধ্যায় = split_text('Child/কমলাকান্তের_দপ্তর.txt', min_char = min_char)\n",
    "কাজীনজরুলইসলাম  = split_text('Child/ব্যাথার_দান.txt', min_char = min_char)\\\n",
    "         + split_text('Child/কুহেলিকা.txt', min_char = min_char)\n",
    "শেখমুজিব = split_text('Child/অসমাপ্ত_আত্মজীবনী.txt', min_char = min_char)\n",
    "জাহানারাইমাম = split_text('Child/একাত্তরের_দিনগুলি.txt', min_char = min_char)\n",
    "শরৎচন্দ্র = split_text('Child/পথের_দাবী.txt', min_char = min_char)"
   ]
  },
  {
   "cell_type": "code",
   "execution_count": 4,
   "metadata": {},
   "outputs": [
    {
     "name": "stdout",
     "output_type": "stream",
     "text": [
      "হুমায়ুনআহমেদ : 815\n",
      "রবিঠাকুর : 1636\n",
      "রকিবহাসান : 559\n",
      "বঙ্কিম_চট্টোপাধ্যায় : 516\n",
      "কাজীনজরুলইসলাম : 1463\n",
      "শেখমুজিব : 623\n",
      "জাহানারাইমাম : 1258\n",
      "শরৎচন্দ্র : 1814\n"
     ]
    }
   ],
   "source": [
    "# Print length of each list\n",
    "\n",
    "text_dict = {'হুমায়ুনআহমেদ': হুমায়ুনআহমেদ, 'রবিঠাকুর': রবিঠাকুর, 'রকিবহাসান': রকিবহাসান, 'বঙ্কিম_চট্টোপাধ্যায়': বঙ্কিম_চট্টোপাধ্যায়,\n",
    "            'কাজীনজরুলইসলাম': কাজীনজরুলইসলাম,'শেখমুজিব': শেখমুজিব, 'জাহানারাইমাম': জাহানারাইমাম,'শরৎচন্দ্র': শরৎচন্দ্র}\n",
    "\n",
    "for key in text_dict.keys():\n",
    "    print(key, ':', len(text_dict[key]))"
   ]
  },
  {
   "cell_type": "code",
   "execution_count": 5,
   "metadata": {},
   "outputs": [
    {
     "name": "stdout",
     "output_type": "stream",
     "text": [
      "The length of the combined list is: 4128\n"
     ]
    }
   ],
   "source": [
    "# Set random seed\n",
    "np.random.seed(1)\n",
    "\n",
    "# Set length parameter\n",
    "max_len = 516\n",
    "\n",
    "# Select sentences\n",
    "names = [হুমায়ুনআহমেদ, রবিঠাকুর, রকিবহাসান, বঙ্কিম_চট্টোপাধ্যায়, কাজীনজরুলইসলাম, শেখমুজিব, জাহানারাইমাম, শরৎচন্দ্র]\n",
    "combined = []\n",
    "\n",
    "for name in names:\n",
    "    name = np.random.choice(name, max_len, replace = False)\n",
    "    combined += list(name)\n",
    "\n",
    "print('The length of the combined list is:', len(combined))"
   ]
  },
  {
   "cell_type": "code",
   "execution_count": 6,
   "metadata": {},
   "outputs": [
    {
     "name": "stdout",
     "output_type": "stream",
     "text": [
      "The length of the labels list is: 4128\n"
     ]
    }
   ],
   "source": [
    "labels = ['হুমায়ুনআহমেদ']*max_len + ['রবিঠাকুর']*max_len + ['রকিবহাসান']*max_len + ['বঙ্কিম_চট্টোপাধ্যায়']*max_len\\\n",
    "         + [' কাজীনজরুলইসলাম']*max_len + ['শেখমুজিব']*max_len + ['জাহানারাইমাম']*max_len + ['শরৎচন্']*max_len\n",
    "\n",
    "print('The length of the labels list is:', len(labels))"
   ]
  },
  {
   "cell_type": "code",
   "execution_count": 7,
   "metadata": {},
   "outputs": [],
   "source": [
    "# Set random seed\n",
    "random.seed(3)\n",
    "\n",
    "# Randomly shuffle data\n",
    "zipped = list(zip(combined, labels))\n",
    "random.shuffle(zipped)\n",
    "combined, labels = zip(*zipped)"
   ]
  },
  {
   "cell_type": "code",
   "execution_count": 8,
   "metadata": {},
   "outputs": [
    {
     "name": "stdout",
     "output_type": "stream",
     "text": [
      "                                                text        author\n",
      "0  তুই আমাকে চিনিস না। আমি তোর চামড়া খুলে ফেলব।  ...  হুমায়ুনআহমেদ\n",
      "1  আমরা কারও দাওয়াত কবুল করছি না, কারণ চৌধুরী সাহ...      শেখমুজিব\n",
      "2  “তোমাকে খুঁজে বের করতে হবে খাতাঞ্জির ঘরে কেউ আ...      রবিঠাকুর\n",
      "3  গণপরিষদের সদস্যদের লজ্জা না করলেও আমাদের লজ্জা...      শেখমুজিব\n",
      "4  তাহলে তো মসজিদেই আটকা পড়ে থাকতে হবে।  তা ঠিক।...  জাহানারাইমাম\n"
     ]
    }
   ],
   "source": [
    "# Create pandas dataframe\n",
    "out_data = pd.DataFrame()\n",
    "out_data['text'] = combined\n",
    "out_data['author'] = labels\n",
    "\n",
    "print(out_data.head())"
   ]
  },
  {
   "cell_type": "code",
   "execution_count": 9,
   "metadata": {},
   "outputs": [],
   "source": [
    "# Export as a csv file\n",
    "out_data.to_csv('author_data.csv', index=False)"
   ]
  },
  {
   "cell_type": "code",
   "execution_count": null,
   "metadata": {},
   "outputs": [],
   "source": []
  }
 ],
 "metadata": {
  "kernelspec": {
   "display_name": "Python 3",
   "language": "python",
   "name": "python3"
  },
  "language_info": {
   "codemirror_mode": {
    "name": "ipython",
    "version": 3
   },
   "file_extension": ".py",
   "mimetype": "text/x-python",
   "name": "python",
   "nbconvert_exporter": "python",
   "pygments_lexer": "ipython3",
   "version": "3.7.3"
  }
 },
 "nbformat": 4,
 "nbformat_minor": 2
}
